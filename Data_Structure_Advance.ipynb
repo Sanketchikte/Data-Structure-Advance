{
  "nbformat": 4,
  "nbformat_minor": 0,
  "metadata": {
    "colab": {
      "provenance": []
    },
    "kernelspec": {
      "name": "python3",
      "display_name": "Python 3"
    },
    "language_info": {
      "name": "python"
    }
  },
  "cells": [
    {
      "cell_type": "markdown",
      "source": [
        "**1.Write a code to reverse a string**\n",
        "\n",
        "**Ans.**  \n",
        "\n",
        "This code defines a function reverse_string that takes a string s as input and returns the reversed string using slicing (s[::-1])."
      ],
      "metadata": {
        "id": "XyoW2uPHk8am"
      }
    },
    {
      "cell_type": "code",
      "execution_count": 12,
      "metadata": {
        "colab": {
          "base_uri": "https://localhost:8080/"
        },
        "id": "avNjU3bCjt2x",
        "outputId": "b48fdb54-bcff-4ae7-96d1-e67a16416566"
      },
      "outputs": [
        {
          "output_type": "stream",
          "name": "stdout",
          "text": [
            "Reversed string: !dlroW ,olleH\n"
          ]
        }
      ],
      "source": [
        "def reverse_string(s):\n",
        "    return s[::-1]\n",
        "\n",
        "# Example usage\n",
        "input_string = \"Hello, World!\"\n",
        "reversed_string = reverse_string(input_string)\n",
        "print(\"Reversed string:\", reversed_string)"
      ]
    },
    {
      "cell_type": "markdown",
      "source": [
        "**2.Write a code to count the number of vowels in a string.**\n",
        "\n",
        "**Ans.**\n",
        "\n",
        "This code defines a function count_vowels that iterates through each character in the input string s. It checks if the character is a vowel (both uppercase and lowercase are considered), and if it is, it increments the count. The final count of vowels is then returned."
      ],
      "metadata": {
        "id": "7Hbv5Ltil16j"
      }
    },
    {
      "cell_type": "code",
      "source": [
        "def count_vowels(s):\n",
        "    vowels = 'aeiouAEIOU'\n",
        "    count = 0\n",
        "    for char in s:\n",
        "        if char in vowels:\n",
        "            count += 1\n",
        "    return count\n",
        "\n",
        "# Example usage\n",
        "input_string = \"Hello, World!\"\n",
        "vowel_count = count_vowels(input_string)\n",
        "print(\"Number of vowels:\", vowel_count)\n"
      ],
      "metadata": {
        "colab": {
          "base_uri": "https://localhost:8080/"
        },
        "id": "CSUYa_NzlwA2",
        "outputId": "25a08987-7013-40f9-9d23-73dacac76ced"
      },
      "execution_count": 13,
      "outputs": [
        {
          "output_type": "stream",
          "name": "stdout",
          "text": [
            "Number of vowels: 3\n"
          ]
        }
      ]
    },
    {
      "cell_type": "markdown",
      "source": [
        "**3.Write a code to check if a given string is a palindrome or not.**\n",
        "\n",
        "**Ans.**\n",
        "\n",
        "This code defines a function is_palindrome that first removes any non-alphanumeric characters from the input string s and converts it to lowercase. It then checks if the cleaned string is equal to its reverse."
      ],
      "metadata": {
        "id": "mWHxPkFPmhFi"
      }
    },
    {
      "cell_type": "code",
      "source": [
        "def is_palindrome(s):\n",
        "    # Remove any non-alphanumeric characters and convert to lowercase\n",
        "    cleaned_string = ''.join(char.lower() for char in s if char.isalnum())\n",
        "    # Check if the cleaned string is equal to its reverse\n",
        "    return cleaned_string == cleaned_string[::-1]\n",
        "\n",
        "# Example usage\n",
        "input_string = \"A man, a plan, a canal, Panama\"\n",
        "if is_palindrome(input_string):\n",
        "    print(\"The string is a palindrome.\")\n",
        "else:\n",
        "    print(\"The string is not a palindrome.\")\n"
      ],
      "metadata": {
        "colab": {
          "base_uri": "https://localhost:8080/"
        },
        "id": "OpBDyCY5me_6",
        "outputId": "14f2273a-2585-4bae-98bc-c17d31bb4d81"
      },
      "execution_count": 14,
      "outputs": [
        {
          "output_type": "stream",
          "name": "stdout",
          "text": [
            "The string is a palindrome.\n"
          ]
        }
      ]
    },
    {
      "cell_type": "markdown",
      "source": [
        "**4.Write a code to check if two given strings are anagrams of each other.**\n",
        "\n",
        "**Ans.**\n",
        "\n",
        "This code defines a function are_anagrams that first removes any non-alphanumeric characters from both input strings s1 and s2, converts them to lowercase, and then checks if the sorted characters of both cleaned strings are the same. When you run this code with the string1 \"Listen\" and string2 \"Silent\", it will output that the strings are anagrams of each other."
      ],
      "metadata": {
        "id": "a0gwfEmKneyR"
      }
    },
    {
      "cell_type": "code",
      "source": [
        "def are_anagrams(s1, s2):\n",
        "    # Remove any non-alphanumeric characters and convert to lowercase\n",
        "    cleaned_s1 = ''.join(char.lower() for char in s1 if char.isalnum())\n",
        "    cleaned_s2 = ''.join(char.lower() for char in s2 if char.isalnum())\n",
        "    # Check if the sorted characters of both cleaned strings are the same\n",
        "    return sorted(cleaned_s1) == sorted(cleaned_s2)\n",
        "\n",
        "# Example usage\n",
        "string1 = \"Listen\"\n",
        "string2 = \"Silent\"\n",
        "if are_anagrams(string1, string2):\n",
        "    print(\"The strings are anagrams of each other.\")\n",
        "else:\n",
        "    print(\"The strings are not anagrams of each other.\")\n"
      ],
      "metadata": {
        "colab": {
          "base_uri": "https://localhost:8080/"
        },
        "id": "7AfAeWmGndK4",
        "outputId": "f7cee3dc-af46-4bec-c21d-3c0eb8b45a9b"
      },
      "execution_count": 15,
      "outputs": [
        {
          "output_type": "stream",
          "name": "stdout",
          "text": [
            "The strings are anagrams of each other.\n"
          ]
        }
      ]
    },
    {
      "cell_type": "markdown",
      "source": [
        "**5.Write a code  to final all occurrences of a given substring within another string.**\n",
        "\n",
        "**Ans.**\n",
        "\n",
        "This code defines a function find_all_occurrences that takes two strings s (the main string) and sub (the substring) as input. It iterates through the main string to find all positions where the substring occurs and stores these positions in the list occurrences."
      ],
      "metadata": {
        "id": "F4LR4svEoOny"
      }
    },
    {
      "cell_type": "code",
      "source": [
        "def find_all_occurrences(s, sub):\n",
        "    occurrences = []\n",
        "    start = 0\n",
        "    while True:\n",
        "        start = s.find(sub, start)\n",
        "        if start == -1:\n",
        "            break\n",
        "        occurrences.append(start)\n",
        "        start += len(sub)\n",
        "    return occurrences\n",
        "\n",
        "# Example usage\n",
        "main_string = \"This is a test. This test is just a test.\"\n",
        "substring = \"test\"\n",
        "positions = find_all_occurrences(main_string, substring)\n",
        "print(\"Occurrences of substring found at positions:\", positions)\n"
      ],
      "metadata": {
        "colab": {
          "base_uri": "https://localhost:8080/"
        },
        "id": "mSUgHNLDoM0w",
        "outputId": "5e753efc-d5a3-4f5d-95b4-14aa3306b692"
      },
      "execution_count": 16,
      "outputs": [
        {
          "output_type": "stream",
          "name": "stdout",
          "text": [
            "Occurrences of substring found at positions: [10, 21, 36]\n"
          ]
        }
      ]
    },
    {
      "cell_type": "markdown",
      "source": [
        "**6.Write a code to perform basic string compression using the counts of repeated characters.**\n",
        "\n",
        "**Ans.**\n",
        "\n",
        "This code defines a function compress_string that iterates through the input string s. It counts consecutive repeated characters and appends each character followed by its count to a list. Finally, it joins the list into a compressed string and returns it. If the compressed string is longer than the original string, it returns the original string instead."
      ],
      "metadata": {
        "id": "6aOKBjwmqWk7"
      }
    },
    {
      "cell_type": "code",
      "source": [
        "def compress_string(s):\n",
        "    compressed = []\n",
        "    count = 1\n",
        "    for i in range(1, len(s)):\n",
        "        if s[i] == s[i - 1]:\n",
        "            count += 1\n",
        "        else:\n",
        "            compressed.append(s[i - 1] + str(count))\n",
        "            count = 1\n",
        "    compressed.append(s[-1] + str(count))\n",
        "    compressed_string = ''.join(compressed)\n",
        "    return compressed_string if len(compressed_string) < len(s) else s\n",
        "\n",
        "# Example usage\n",
        "input_string = \"aabcccccaaa\"\n",
        "compressed_string = compress_string(input_string)\n",
        "print(\"Compressed string:\", compressed_string)\n"
      ],
      "metadata": {
        "colab": {
          "base_uri": "https://localhost:8080/"
        },
        "id": "m-PEfpe5qTix",
        "outputId": "305312ce-0a82-4156-da61-19774a9b05b4"
      },
      "execution_count": 17,
      "outputs": [
        {
          "output_type": "stream",
          "name": "stdout",
          "text": [
            "Compressed string: a2b1c5a3\n"
          ]
        }
      ]
    },
    {
      "cell_type": "markdown",
      "source": [
        "**7.Write a code to determine if a string has all unique characters.**\n",
        "\n",
        "**Ans.**\n",
        "\n",
        "This code defines a function has_unique_characters that uses a set to keep track of characters encountered in the input string s. As it iterates through the string, it checks if the character has already been seen. If it has, the function returns False, indicating that not all characters are unique. Otherwise, it adds the character to the set. If the iteration completes without finding any duplicates, the function returns True."
      ],
      "metadata": {
        "id": "Lq-_Gt_UrQ5i"
      }
    },
    {
      "cell_type": "code",
      "source": [
        "def has_unique_characters(s):\n",
        "    # Use a set to track characters we've seen\n",
        "    seen_chars = set()\n",
        "    for char in s:\n",
        "        if char in seen_chars:\n",
        "            return False\n",
        "        seen_chars.add(char)\n",
        "    return True\n",
        "\n",
        "# Example usage\n",
        "input_string = \"abcdef\"\n",
        "if has_unique_characters(input_string):\n",
        "    print(\"The string has all unique characters.\")\n",
        "else:\n",
        "    print(\"The string does not have all unique characters.\")\n"
      ],
      "metadata": {
        "colab": {
          "base_uri": "https://localhost:8080/"
        },
        "id": "1rGRz7I6q-X2",
        "outputId": "486c23af-af10-4d54-dbd5-9f4ccf856bfd"
      },
      "execution_count": 18,
      "outputs": [
        {
          "output_type": "stream",
          "name": "stdout",
          "text": [
            "The string has all unique characters.\n"
          ]
        }
      ]
    },
    {
      "cell_type": "markdown",
      "source": [
        "**8.Write a code to convert a given string to uppercase or lowercase.**\n",
        "\n",
        "**Ans.**\n",
        "This code defines two functions: convert_to_uppercase and convert_to_lowercase. The convert_to_uppercase function converts the input string s to uppercase using the upper() method, while the convert_to_lowercase function converts the input string s to lowercase using the lower() method."
      ],
      "metadata": {
        "id": "Sjg69-Gtsk3n"
      }
    },
    {
      "cell_type": "code",
      "source": [
        "def convert_to_uppercase(s):\n",
        "    return s.upper()\n",
        "\n",
        "def convert_to_lowercase(s):\n",
        "    return s.lower()\n",
        "\n",
        "# Example usage\n",
        "input_string = \"Hello, World!\"\n",
        "uppercase_string = convert_to_uppercase(input_string)\n",
        "lowercase_string = convert_to_lowercase(input_string)\n",
        "print(\"Uppercase string:\", uppercase_string)\n",
        "print(\"Lowercase string:\", lowercase_string)\n"
      ],
      "metadata": {
        "colab": {
          "base_uri": "https://localhost:8080/"
        },
        "id": "csw88bjWsiDe",
        "outputId": "cbd42073-ba2d-4231-eb34-6e3c35fbe2e6"
      },
      "execution_count": 19,
      "outputs": [
        {
          "output_type": "stream",
          "name": "stdout",
          "text": [
            "Uppercase string: HELLO, WORLD!\n",
            "Lowercase string: hello, world!\n"
          ]
        }
      ]
    },
    {
      "cell_type": "markdown",
      "source": [
        "**9.Write a code to count the number of words in a string.**\n",
        "\n",
        "**Ans.**\n",
        "\n",
        "This code defines a function count_words that splits the input string s into words using whitespace as the delimiter and returns the number of words by counting the length of the resulting list."
      ],
      "metadata": {
        "id": "6poKN_7luq18"
      }
    },
    {
      "cell_type": "code",
      "source": [
        "def count_words(s):\n",
        "    # Split the string into words using whitespace as the delimiter\n",
        "    words = s.split()\n",
        "    return len(words)\n",
        "\n",
        "# Example usage\n",
        "input_string = \"Hello, how are you today?\"\n",
        "word_count = count_words(input_string)\n",
        "print(\"Number of words:\", word_count)\n"
      ],
      "metadata": {
        "colab": {
          "base_uri": "https://localhost:8080/"
        },
        "id": "-zVxqVX5uniY",
        "outputId": "f9ea74e8-17ac-426f-ca78-107cd5aac63c"
      },
      "execution_count": 20,
      "outputs": [
        {
          "output_type": "stream",
          "name": "stdout",
          "text": [
            "Number of words: 5\n"
          ]
        }
      ]
    },
    {
      "cell_type": "markdown",
      "source": [
        "**10.Write a code to concatenate two strings without using the +operator.**\n",
        "\n",
        "**Ans.**\n",
        "\n",
        "This code defines a function concatenate_strings that takes two strings s1 and s2 and uses the format method to concatenate them."
      ],
      "metadata": {
        "id": "54fVPNftvPqE"
      }
    },
    {
      "cell_type": "code",
      "source": [
        "def concatenate_strings(s1, s2):\n",
        "    return \"{}{}\".format(s1, s2)\n",
        "\n",
        "# Example usage\n",
        "string1 = \"Hello\"\n",
        "string2 = \"World\"\n",
        "result = concatenate_strings(string1, string2)\n",
        "print(\"Concatenated string:\", result)\n"
      ],
      "metadata": {
        "colab": {
          "base_uri": "https://localhost:8080/"
        },
        "id": "EegEyQnxvOMU",
        "outputId": "8134e498-ab6a-489e-9c56-f5e080152908"
      },
      "execution_count": 21,
      "outputs": [
        {
          "output_type": "stream",
          "name": "stdout",
          "text": [
            "Concatenated string: HelloWorld\n"
          ]
        }
      ]
    },
    {
      "cell_type": "markdown",
      "source": [
        "**11.Write a code to remove all occurrences of a specific element from a list.**\n",
        "\n",
        "**Ans.**\n",
        "\n",
        "This code defines a function remove_occurrences that takes a list lst and an element to remove. It uses a list comprehension to create a new list that includes only the items that are not equal to the specified element."
      ],
      "metadata": {
        "id": "F1FyMmKlv_td"
      }
    },
    {
      "cell_type": "code",
      "source": [
        "def remove_occurrences(lst, element):\n",
        "    return [item for item in lst if item != element]\n",
        "\n",
        "# Example usage\n",
        "input_list = [1, 2, 3, 4, 3, 2, 1]\n",
        "element_to_remove = 2\n",
        "result_list = remove_occurrences(input_list, element_to_remove)\n",
        "print(\"List after removing all occurrences of\", element_to_remove, \":\", result_list)\n"
      ],
      "metadata": {
        "colab": {
          "base_uri": "https://localhost:8080/"
        },
        "id": "CTbPnUylv-l6",
        "outputId": "78804459-8deb-472d-ae00-867ab2ed4efb"
      },
      "execution_count": 22,
      "outputs": [
        {
          "output_type": "stream",
          "name": "stdout",
          "text": [
            "List after removing all occurrences of 2 : [1, 3, 4, 3, 1]\n"
          ]
        }
      ]
    },
    {
      "cell_type": "markdown",
      "source": [
        "**12.Implement a code to find the second largest number in a given list of integers.**\n",
        "\n",
        "**Ans.**\n",
        "\n",
        "This code defines a function find_second_largest that iterates through the list nums to find the largest and second largest numbers. It uses two variables first and second to keep track of these values. If the list has fewer than two elements, the function returns None."
      ],
      "metadata": {
        "id": "nDofs0ivxd8x"
      }
    },
    {
      "cell_type": "code",
      "source": [
        "def find_second_largest(nums):\n",
        "    if len(nums) < 2:\n",
        "        return None  # Not enough elements to find the second largest\n",
        "    first, second = float('-inf'), float('-inf')\n",
        "    for num in nums:\n",
        "        if num > first:\n",
        "            second = first\n",
        "            first = num\n",
        "        elif first > num > second:\n",
        "            second = num\n",
        "    return second if second != float('-inf') else None\n",
        "\n",
        "# Example usage\n",
        "numbers = [3, 5, 1, 4, 9, 7, 5]\n",
        "second_largest = find_second_largest(numbers)\n",
        "print(\"Second largest number:\", second_largest)\n"
      ],
      "metadata": {
        "colab": {
          "base_uri": "https://localhost:8080/"
        },
        "id": "IuGh8jw2xOOW",
        "outputId": "68109460-5ee4-4fbd-a2be-78751ec0687c"
      },
      "execution_count": 23,
      "outputs": [
        {
          "output_type": "stream",
          "name": "stdout",
          "text": [
            "Second largest number: 7\n"
          ]
        }
      ]
    },
    {
      "cell_type": "markdown",
      "source": [
        "**13.Create a code to count the occurrences of each element in a list and return a dictionary with elements as keys and their counts as values.**\n",
        "\n",
        "**Ans.**\n",
        "\n",
        "This code defines a function count_occurrences that iterates through the input list lst and counts the occurrences of each element. It uses a dictionary counts to store the elements as keys and their counts as values."
      ],
      "metadata": {
        "id": "Fg-xY6z8ySl1"
      }
    },
    {
      "cell_type": "code",
      "source": [
        "def count_occurrences(lst):\n",
        "    counts = {}\n",
        "    for item in lst:\n",
        "        if item in counts:\n",
        "            counts[item] += 1\n",
        "        else:\n",
        "            counts[item] = 1\n",
        "    return counts\n",
        "\n",
        "# Example usage\n",
        "input_list = [1, 2, 2, 3, 3, 3, 4, 4, 4, 4]\n",
        "occurrences = count_occurrences(input_list)\n",
        "print(\"Element counts:\", occurrences)\n"
      ],
      "metadata": {
        "colab": {
          "base_uri": "https://localhost:8080/"
        },
        "id": "yJoTGja4yOeE",
        "outputId": "b2d3976c-6a78-419c-87ee-86ec9b8f93f5"
      },
      "execution_count": 24,
      "outputs": [
        {
          "output_type": "stream",
          "name": "stdout",
          "text": [
            "Element counts: {1: 1, 2: 2, 3: 3, 4: 4}\n"
          ]
        }
      ]
    },
    {
      "cell_type": "markdown",
      "source": [
        "**14.Write a code to reverse a list in- place without using any built-in reverse functions.**\n",
        "\n",
        "**Ans.**\n",
        "\n",
        "This code defines a function reverse_list that uses two pointers, left and right, to swap elements from the beginning and the end of the list, working towards the center. This effectively reverses the list in-place."
      ],
      "metadata": {
        "id": "rId4JzXmzNtV"
      }
    },
    {
      "cell_type": "code",
      "source": [
        "def reverse_list(lst):\n",
        "    left, right = 0, len(lst) - 1\n",
        "    while left < right:\n",
        "        lst[left], lst[right] = lst[right], lst[left]\n",
        "        left += 1\n",
        "        right -= 1\n",
        "    return lst\n",
        "\n",
        "# Example usage\n",
        "input_list = [1, 2, 3, 4, 5]\n",
        "reversed_list = reverse_list(input_list)\n",
        "print(\"Reversed list:\", reversed_list)\n"
      ],
      "metadata": {
        "colab": {
          "base_uri": "https://localhost:8080/"
        },
        "id": "HzLRYIHFzKzw",
        "outputId": "2a8c60bb-c1f8-4c33-ec44-75d4ad4e5a45"
      },
      "execution_count": 25,
      "outputs": [
        {
          "output_type": "stream",
          "name": "stdout",
          "text": [
            "Reversed list: [5, 4, 3, 2, 1]\n"
          ]
        }
      ]
    },
    {
      "cell_type": "markdown",
      "source": [
        "**15.Implement a code to find and remove duplicates from a list while preserving the original order of elements.**\n",
        "\n",
        "**Ans.**\n",
        "\n",
        "This code defines a function remove_duplicates that iterates through the input list lst. It uses a set seen to keep track of the elements that have already been encountered and a list result to store the unique elements while maintaining their original order."
      ],
      "metadata": {
        "id": "u9_W-sMj0v1s"
      }
    },
    {
      "cell_type": "code",
      "source": [
        "def remove_duplicates(lst):\n",
        "    seen = set()\n",
        "    result = []\n",
        "    for item in lst:\n",
        "        if item not in seen:\n",
        "            seen.add(item)\n",
        "            result.append(item)\n",
        "    return result\n",
        "\n",
        "# Example usage\n",
        "input_list = [1, 2, 2, 3, 4, 4, 5, 3, 6, 7, 6]\n",
        "unique_list = remove_duplicates(input_list)\n",
        "print(\"List after removing duplicates while preserving order:\", unique_list)\n"
      ],
      "metadata": {
        "colab": {
          "base_uri": "https://localhost:8080/"
        },
        "id": "q5jzAEViz_oH",
        "outputId": "372e443d-1e7f-40f9-bfd9-0840c24a056b"
      },
      "execution_count": 26,
      "outputs": [
        {
          "output_type": "stream",
          "name": "stdout",
          "text": [
            "List after removing duplicates while preserving order: [1, 2, 3, 4, 5, 6, 7]\n"
          ]
        }
      ]
    },
    {
      "cell_type": "markdown",
      "source": [
        "**16.Create a code to check if a given list is sorted (either in ascending or descending order) or not.**\n",
        "\n",
        "**Ans.**\n",
        "\n",
        "This code checks if the given list lst is sorted by verifying if it is either in ascending or descending order. It returns True if the list is sorted in either order and False otherwise."
      ],
      "metadata": {
        "id": "nOs_SN8j1xkU"
      }
    },
    {
      "cell_type": "code",
      "source": [
        "def is_sorted(lst):\n",
        "    ascending = all(lst[i] <= lst[i + 1] for i in range(len(lst) - 1))\n",
        "    descending = all(lst[i] >= lst[i + 1] for i in range(len(lst) - 1))\n",
        "    return ascending or descending\n",
        "\n",
        "# Test cases\n",
        "list1 = [1, 2, 3, 4, 5]\n",
        "list2 = [5, 4, 3, 2, 1]\n",
        "list3 = [1, 3, 2, 4, 5]\n",
        "\n",
        "print(is_sorted(list1))\n",
        "print(is_sorted(list2))\n",
        "print(is_sorted(list3))\n"
      ],
      "metadata": {
        "id": "WW2eIlq41uz5",
        "colab": {
          "base_uri": "https://localhost:8080/"
        },
        "outputId": "8939c5e8-78f6-4f7a-e22e-0e4333549ff6"
      },
      "execution_count": 27,
      "outputs": [
        {
          "output_type": "stream",
          "name": "stdout",
          "text": [
            "True\n",
            "True\n",
            "False\n"
          ]
        }
      ]
    },
    {
      "cell_type": "markdown",
      "source": [
        "**17.Write a code to merge two sorted lists into a single sorted list.**\n",
        "\n",
        "**Ans.**\n",
        "\n",
        "This code merges two sorted lists list1 and list2 into a single sorted list merged_list. It iterates through both lists, compares their elements, and appends the smaller element to the merged list until all elements from both lists are processed."
      ],
      "metadata": {
        "id": "-2BV1WHNU6k2"
      }
    },
    {
      "cell_type": "code",
      "source": [
        "def merge_sorted_lists(list1, list2):\n",
        "    merged_list = []\n",
        "    i, j = 0, 0\n",
        "\n",
        "    while i < len(list1) and j < len(list2):\n",
        "        if list1[i] < list2[j]:\n",
        "            merged_list.append(list1[i])\n",
        "            i += 1\n",
        "        else:\n",
        "            merged_list.append(list2[j])\n",
        "            j += 1\n",
        "\n",
        "    # Append remaining elements of list1\n",
        "    while i < len(list1):\n",
        "        merged_list.append(list1[i])\n",
        "        i += 1\n",
        "\n",
        "    # Append remaining elements of list2\n",
        "    while j < len(list2):\n",
        "        merged_list.append(list2[j])\n",
        "        j += 1\n",
        "\n",
        "    return merged_list\n",
        "\n",
        "# Test cases\n",
        "list1 = [1, 3, 5, 7]\n",
        "list2 = [2, 4, 6, 8]\n",
        "merged_list = merge_sorted_lists(list1, list2)\n",
        "\n",
        "print(merged_list)\n"
      ],
      "metadata": {
        "colab": {
          "base_uri": "https://localhost:8080/"
        },
        "id": "NZf9zmOxU2GN",
        "outputId": "a401b1a4-28b4-477e-c26b-07101e724892"
      },
      "execution_count": 28,
      "outputs": [
        {
          "output_type": "stream",
          "name": "stdout",
          "text": [
            "[1, 2, 3, 4, 5, 6, 7, 8]\n"
          ]
        }
      ]
    },
    {
      "cell_type": "markdown",
      "source": [
        "**18.Implement a code to find the intersection of two given lists.**\n",
        "\n",
        "**Ans.**\n",
        "\n",
        "This code defines a function find_intersection that takes two lists, list1 and list2, and returns a new list containing the elements that are present in both input lists."
      ],
      "metadata": {
        "id": "PDgVw7CJV0Xa"
      }
    },
    {
      "cell_type": "code",
      "source": [
        "def find_intersection(list1, list2):\n",
        "    intersection = [value for value in list1 if value in list2]\n",
        "    return intersection\n",
        "\n",
        "# Test cases\n",
        "list1 = [1, 2, 3, 4, 5]\n",
        "list2 = [4, 5, 6, 7, 8]\n",
        "intersection_list = find_intersection(list1, list2)\n",
        "\n",
        "print(intersection_list)\n"
      ],
      "metadata": {
        "colab": {
          "base_uri": "https://localhost:8080/"
        },
        "id": "kuOsyuMaVyvL",
        "outputId": "00346219-6667-4888-cf39-e0b0f3634c27"
      },
      "execution_count": 29,
      "outputs": [
        {
          "output_type": "stream",
          "name": "stdout",
          "text": [
            "[4, 5]\n"
          ]
        }
      ]
    },
    {
      "cell_type": "markdown",
      "source": [
        "**19.Create a code to find the union of two lists without duplicates.**\n",
        "\n",
        "**Ans.**\n",
        "\n",
        "This code defines a function union_lists that takes two lists, list1 and list2, and returns a new list containing the union of the elements from both input lists without any duplicates. It uses Python's set data structure to remove duplicates and the union method to combine the sets."
      ],
      "metadata": {
        "id": "QRKztiHnWbf7"
      }
    },
    {
      "cell_type": "code",
      "source": [
        "def union_lists(list1, list2):\n",
        "    union_set = set(list1).union(set(list2))\n",
        "    return list(union_set)\n",
        "\n",
        "# Test cases\n",
        "list1 = [1, 2, 3, 4, 5]\n",
        "list2 = [4, 5, 6, 7, 8]\n",
        "union_list = union_lists(list1, list2)\n",
        "\n",
        "print(union_list)\n"
      ],
      "metadata": {
        "colab": {
          "base_uri": "https://localhost:8080/"
        },
        "id": "VUthA_XCWaST",
        "outputId": "623d5ca2-4823-4950-eb79-36eb0984118c"
      },
      "execution_count": 30,
      "outputs": [
        {
          "output_type": "stream",
          "name": "stdout",
          "text": [
            "[1, 2, 3, 4, 5, 6, 7, 8]\n"
          ]
        }
      ]
    },
    {
      "cell_type": "markdown",
      "source": [
        "**20. Write a code to shuffle a given list randomly without using any built-in shuffle functions.**\n",
        "\n",
        "**Ans.**\n",
        "\n",
        "This code defines a function custom_shuffle that takes a list lst as input and shuffles it randomly. It uses the random.randint() function to generate random indices for swapping elements in the list. The loop iterates through each element in the list and swaps it with an element at a randomly chosen index."
      ],
      "metadata": {
        "id": "Fm6D_5iSXGdd"
      }
    },
    {
      "cell_type": "code",
      "source": [
        "import random\n",
        "\n",
        "def custom_shuffle(lst):\n",
        "    length = len(lst)\n",
        "    for i in range(length):\n",
        "        swap_idx = random.randint(0, length - 1)\n",
        "        lst[i], lst[swap_idx] = lst[swap_idx], lst[i]\n",
        "\n",
        "# Test case\n",
        "my_list = [1, 2, 3, 4, 5]\n",
        "custom_shuffle(my_list)\n",
        "\n",
        "print(my_list)\n"
      ],
      "metadata": {
        "colab": {
          "base_uri": "https://localhost:8080/"
        },
        "id": "sFAOQrALXFC_",
        "outputId": "e7a1de91-e85f-4a52-ebe4-f2a86f68e6f3"
      },
      "execution_count": 31,
      "outputs": [
        {
          "output_type": "stream",
          "name": "stdout",
          "text": [
            "[3, 5, 1, 4, 2]\n"
          ]
        }
      ]
    },
    {
      "cell_type": "markdown",
      "source": [
        "**21.Write a code that takes two tuples as input and returns a new tuple containing elements that are\n",
        "common to both input tuples**\n",
        "\n",
        "**Ans.**\n",
        "\n",
        "This code defines a function common_elements that takes two tuples, tuple1 and tuple2, and returns a new tuple containing the common elements. It uses Python's set data structure to find the intersection and converts the result back to a tuple."
      ],
      "metadata": {
        "id": "IqnHe6plXrC6"
      }
    },
    {
      "cell_type": "code",
      "source": [
        "def common_elements(tuple1, tuple2):\n",
        "    common_set = set(tuple1).intersection(set(tuple2))\n",
        "    return tuple(common_set)\n",
        "\n",
        "# Test cases\n",
        "tuple1 = (1, 2, 3, 4, 5)\n",
        "tuple2 = (4, 5, 6, 7, 8)\n",
        "common_tuple = common_elements(tuple1, tuple2)\n",
        "\n",
        "print(common_tuple)\n"
      ],
      "metadata": {
        "colab": {
          "base_uri": "https://localhost:8080/"
        },
        "id": "2Kb0bC94Xp3k",
        "outputId": "664bada6-e65c-4328-cc23-39fddad6ca47"
      },
      "execution_count": 32,
      "outputs": [
        {
          "output_type": "stream",
          "name": "stdout",
          "text": [
            "(4, 5)\n"
          ]
        }
      ]
    },
    {
      "cell_type": "markdown",
      "source": [
        "**22.Create a code that prompts the user to enter two sets of integers separated by commas. Then, print the\n",
        "intersection of these two sets**\n",
        "\n",
        "**Ans.**\n",
        "\n",
        "This code defines a function get_integer_set that prompts the user to input a set of integers separated by commas and converts the input into a set of integers. It then finds the intersection of the two sets and prints the result."
      ],
      "metadata": {
        "id": "GS2lgq8QYXGX"
      }
    },
    {
      "cell_type": "code",
      "source": [
        "def get_integer_set(prompt):\n",
        "    return set(map(int, input(prompt).split(',')))\n",
        "\n",
        "# Get input from the user\n",
        "set1 = get_integer_set(\"Enter the first set of integers separated by commas: \")\n",
        "set2 = get_integer_set(\"Enter the second set of integers separated by commas: \")\n",
        "\n",
        "# Find the intersection\n",
        "intersection = set1.intersection(set2)\n",
        "\n",
        "# Print the intersection\n",
        "print(\"The intersection of the two sets is:\", intersection)\n"
      ],
      "metadata": {
        "id": "SactohPEYVyr",
        "colab": {
          "base_uri": "https://localhost:8080/"
        },
        "outputId": "86d61356-9066-46af-a23f-122ff56e3245"
      },
      "execution_count": 33,
      "outputs": [
        {
          "output_type": "stream",
          "name": "stdout",
          "text": [
            "Enter the first set of integers separated by commas: 2222\n",
            "Enter the second set of integers separated by commas: 4444\n",
            "The intersection of the two sets is: set()\n"
          ]
        }
      ]
    },
    {
      "cell_type": "markdown",
      "source": [
        "**23. Write a code to concatenate two tuples. The function should take two tuples as input and return a new\n",
        "tuple containing elements from both input tuples.**\n",
        "\n",
        "**Ans.**\n",
        "\n",
        "This code defines a function concatenate_tuples that takes two tuples, tuple1 and tuple2, and concatenates them using the + operator. The result is a new tuple containing elements from both input tuples."
      ],
      "metadata": {
        "id": "cc0Q_48sa4PY"
      }
    },
    {
      "cell_type": "code",
      "source": [
        "def concatenate_tuples(tuple1, tuple2):\n",
        "    return tuple1 + tuple2\n",
        "\n",
        "# Test cases\n",
        "tuple1 = (1, 2, 3)\n",
        "tuple2 = (4, 5, 6)\n",
        "concatenated_tuple = concatenate_tuples(tuple1, tuple2)\n",
        "\n",
        "print(concatenated_tuple)\n"
      ],
      "metadata": {
        "id": "E0eNIEQeZFX8",
        "colab": {
          "base_uri": "https://localhost:8080/"
        },
        "outputId": "f335056e-788d-4b4d-db6e-33f93498dec4"
      },
      "execution_count": 34,
      "outputs": [
        {
          "output_type": "stream",
          "name": "stdout",
          "text": [
            "(1, 2, 3, 4, 5, 6)\n"
          ]
        }
      ]
    },
    {
      "cell_type": "markdown",
      "source": [
        "**24.Develop a code that prompts the user to input two sets of strings. Then, print the elements that are\n",
        "present in the first set but not in the second set.**\n",
        "\n",
        "**Ans.**\n",
        "\n",
        "This code defines a function get_string_set that prompts the user to input a set of strings separated by commas and converts the input into a set of strings. It then finds the difference between the two sets and prints the result."
      ],
      "metadata": {
        "id": "qTsKFRHnbYqZ"
      }
    },
    {
      "cell_type": "code",
      "source": [
        "def get_string_set(prompt):\n",
        "    return set(input(prompt).split(','))\n",
        "\n",
        "# Get input from the user\n",
        "set1 = get_string_set(\"Enter the first set of strings separated by commas: \")\n",
        "set2 = get_string_set(\"Enter the second set of strings separated by commas: \")\n",
        "\n",
        "# Find the difference\n",
        "difference = set1.difference(set2)\n",
        "\n",
        "# Print the difference\n",
        "print(\"Elements present in the first set but not in the second set:\", difference)\n"
      ],
      "metadata": {
        "id": "RGOgaYegbV0v",
        "colab": {
          "base_uri": "https://localhost:8080/"
        },
        "outputId": "c596a2c8-dc3e-4594-920b-70a4d00fe99a"
      },
      "execution_count": 35,
      "outputs": [
        {
          "output_type": "stream",
          "name": "stdout",
          "text": [
            "Enter the first set of strings separated by commas: 443\n",
            "Enter the second set of strings separated by commas: 535\n",
            "Elements present in the first set but not in the second set: {'443'}\n"
          ]
        }
      ]
    },
    {
      "cell_type": "markdown",
      "source": [
        "**25.Create a code that takes a tuple and two integers as input. The function should return a new tuple\n",
        "containing elements from the original tuple within the specified range of indices.**\n",
        "\n",
        "**Ans.**\n",
        "\n",
        "This code defines a function slice_tuple that takes an original_tuple and two integers start_index and end_index. It returns a new tuple containing the elements from the original_tuple within the specified range of indices (inclusive of start_index and end_index)"
      ],
      "metadata": {
        "id": "_-BxQ14Ib9Ug"
      }
    },
    {
      "cell_type": "code",
      "source": [
        "def slice_tuple(original_tuple, start_index, end_index):\n",
        "    return original_tuple[start_index:end_index + 1]\n",
        "\n",
        "# Test case\n",
        "my_tuple = (1, 2, 3, 4, 5, 6, 7, 8, 9)\n",
        "start = 2\n",
        "end = 5\n",
        "sliced_tuple = slice_tuple(my_tuple, start, end)\n",
        "\n",
        "print(sliced_tuple)\n"
      ],
      "metadata": {
        "id": "AudAf128b8Hx",
        "colab": {
          "base_uri": "https://localhost:8080/"
        },
        "outputId": "78e75401-f829-423b-8558-ef6a19074d61"
      },
      "execution_count": 36,
      "outputs": [
        {
          "output_type": "stream",
          "name": "stdout",
          "text": [
            "(3, 4, 5, 6)\n"
          ]
        }
      ]
    },
    {
      "cell_type": "markdown",
      "source": [
        "**26. Write a code that prompts the user to input two sets of characters. Then, print the union of these two sets.**\n",
        "\n",
        "**Ans.**\n",
        "\n",
        "This code defines a function get_character_set that prompts the user to input a set of characters separated by commas and converts the input into a set of characters. It then finds the union of the two sets and prints the result"
      ],
      "metadata": {
        "id": "kCQAFs9VcnNv"
      }
    },
    {
      "cell_type": "code",
      "source": [
        "def get_character_set(prompt):\n",
        "    return set(input(prompt).split(','))\n",
        "\n",
        "# Get input from the user\n",
        "set1 = get_character_set(\"Enter the first set of characters separated by commas: \")\n",
        "set2 = get_character_set(\"Enter the second set of characters separated by commas: \")\n",
        "\n",
        "# Find the union\n",
        "union_set = set1.union(set2)\n",
        "\n",
        "# Print the union\n",
        "print(\"The union of the two sets is:\", union_set)\n"
      ],
      "metadata": {
        "id": "mCw5OSemclUJ",
        "colab": {
          "base_uri": "https://localhost:8080/"
        },
        "outputId": "333949dd-7aee-48dc-b060-aa71dd8617c0"
      },
      "execution_count": 37,
      "outputs": [
        {
          "output_type": "stream",
          "name": "stdout",
          "text": [
            "Enter the first set of characters separated by commas: 555\n",
            "Enter the second set of characters separated by commas: 4422\n",
            "The union of the two sets is: {'555', '4422'}\n"
          ]
        }
      ]
    },
    {
      "cell_type": "markdown",
      "source": [
        "**27. Develop a code that takes a tuple of integers as input. The function should return the maximum and\n",
        "minimum values from the tuple using tuple unpacking.**\n",
        "\n",
        "**Ans.**\n",
        "\n",
        "This code defines a function find_max_min that takes a tuple of integers tpl and returns the maximum and minimum values. The function uses tuple unpacking to simultaneously assign the results of the max and min functions to max_value and min_value variables.\n"
      ],
      "metadata": {
        "id": "WL8hdJ46c-Ed"
      }
    },
    {
      "cell_type": "code",
      "source": [
        "def find_max_min(tpl):\n",
        "    max_value, min_value = max(tpl), min(tpl)\n",
        "    return max_value, min_value\n",
        "\n",
        "# Test case\n",
        "my_tuple = (3, 1, 4, 1, 5, 9, 2, 6, 5, 3, 5)\n",
        "max_val, min_val = find_max_min(my_tuple)\n",
        "\n",
        "print(f\"Maximum value: {max_val}, Minimum value: {min_val}\")\n"
      ],
      "metadata": {
        "id": "2vlCzWy9c9RJ",
        "colab": {
          "base_uri": "https://localhost:8080/"
        },
        "outputId": "e7adeb24-ebdc-4178-9332-69ad4164d99c"
      },
      "execution_count": 38,
      "outputs": [
        {
          "output_type": "stream",
          "name": "stdout",
          "text": [
            "Maximum value: 9, Minimum value: 1\n"
          ]
        }
      ]
    },
    {
      "cell_type": "markdown",
      "source": [
        "**28.Create a code that defines two sets of integers. Then, print the union, intersection, and difference of these\n",
        "two sets.**\n",
        "\n",
        "**Ans.**\n",
        "\n",
        "This code defines a function set_operations that takes two sets, set1 and set2, and returns their union, intersection, and difference. The results are printed after performing the set operations."
      ],
      "metadata": {
        "id": "Xm8iYv7NdXTj"
      }
    },
    {
      "cell_type": "code",
      "source": [
        "def set_operations(set1, set2):\n",
        "    union_set = set1.union(set2)\n",
        "    intersection_set = set1.intersection(set2)\n",
        "    difference_set = set1.difference(set2)\n",
        "\n",
        "    return union_set, intersection_set, difference_set\n",
        "\n",
        "# Define two sets of integers\n",
        "set1 = {1, 2, 3, 4, 5}\n",
        "set2 = {4, 5, 6, 7, 8}\n",
        "\n",
        "# Perform set operations\n",
        "union_result, intersection_result, difference_result = set_operations(set1, set2)\n",
        "\n",
        "# Print the results\n",
        "print(f\"Union: {union_result}\")\n",
        "print(f\"Intersection: {intersection_result}\")\n",
        "print(f\"Difference: {difference_result}\")\n"
      ],
      "metadata": {
        "id": "4VvOp6l7dWC4",
        "colab": {
          "base_uri": "https://localhost:8080/"
        },
        "outputId": "bf17a4d4-a051-47cc-ca62-8dfb3edfc222"
      },
      "execution_count": 39,
      "outputs": [
        {
          "output_type": "stream",
          "name": "stdout",
          "text": [
            "Union: {1, 2, 3, 4, 5, 6, 7, 8}\n",
            "Intersection: {4, 5}\n",
            "Difference: {1, 2, 3}\n"
          ]
        }
      ]
    },
    {
      "cell_type": "markdown",
      "source": [
        "**29.Write a code that takes a tuple and an element as input. The function should return the count of occurrences of the given element in the tuple.**\n",
        "\n",
        "**Ans.**\n",
        "\n",
        "This code defines a function count_occurrences that takes a tuple tpl and an element, and returns the count of occurrences of the given element in the tuple using the count method."
      ],
      "metadata": {
        "id": "lsWKM3tvhcW-"
      }
    },
    {
      "cell_type": "code",
      "source": [
        "def count_occurrences(tpl, element):\n",
        "    return tpl.count(element)\n",
        "\n",
        "# Test case\n",
        "my_tuple = (1, 2, 3, 4, 3, 2, 3, 1, 3)\n",
        "element = 3\n",
        "occurrences = count_occurrences(my_tuple, element)\n",
        "\n",
        "print(f\"The element {element} occurs {occurrences} times in the tuple.\")\n"
      ],
      "metadata": {
        "id": "gTw_6VjXdxQO",
        "colab": {
          "base_uri": "https://localhost:8080/"
        },
        "outputId": "d1713b8e-ef8e-4907-f593-114677d6571a"
      },
      "execution_count": 40,
      "outputs": [
        {
          "output_type": "stream",
          "name": "stdout",
          "text": [
            "The element 3 occurs 4 times in the tuple.\n"
          ]
        }
      ]
    },
    {
      "cell_type": "markdown",
      "source": [
        "**30.Develop a code that prompts the user to input two sets of strings. Then, print the symmetric difference of\n",
        "these two sets.**\n",
        "\n",
        "**Ans.**\n",
        "\n",
        "This code defines a function get_string_set that prompts the user to input a set of strings separated by commas and converts the input into a set of strings. It then finds the symmetric difference between the two sets and prints the result."
      ],
      "metadata": {
        "id": "jtNDTdfriXD1"
      }
    },
    {
      "cell_type": "code",
      "source": [
        "def get_string_set(prompt):\n",
        "    return set(input(prompt).split(','))\n",
        "\n",
        "# Get input from the user\n",
        "set1 = get_string_set(\"Enter the first set of strings separated by commas: \")\n",
        "set2 = get_string_set(\"Enter the second set of strings separated by commas: \")\n",
        "\n",
        "# Find the symmetric difference\n",
        "symmetric_difference = set1.symmetric_difference(set2)\n",
        "\n",
        "# Print the symmetric difference\n",
        "print(\"The symmetric difference of the two sets is:\", symmetric_difference)\n"
      ],
      "metadata": {
        "id": "zh94XkWDiWCL",
        "colab": {
          "base_uri": "https://localhost:8080/"
        },
        "outputId": "52a3e9f2-b37e-46df-97b6-d2d541a9063a"
      },
      "execution_count": 6,
      "outputs": [
        {
          "output_type": "stream",
          "name": "stdout",
          "text": [
            "Enter the first set of strings separated by commas: 242\n",
            "Enter the second set of strings separated by commas: 252\n",
            "The symmetric difference of the two sets is: {'242', '252'}\n"
          ]
        }
      ]
    },
    {
      "cell_type": "markdown",
      "source": [
        "**31. Write a code that takes a list of words as input and returns a dictionary where the keys are unique words\n",
        "and the values are the frequencies of those words in the input list.**\n",
        "\n",
        "**Ans.**\n",
        "This code defines a function word_frequencies that takes a list of words word_list and returns a dictionary frequency_dict where the keys are unique words and the values are their frequencies in the input list."
      ],
      "metadata": {
        "id": "tJqcUeHXivGL"
      }
    },
    {
      "cell_type": "code",
      "source": [
        "def word_frequencies(word_list):\n",
        "    frequency_dict = {}\n",
        "    for word in word_list:\n",
        "        if word in frequency_dict:\n",
        "            frequency_dict[word] += 1\n",
        "        else:\n",
        "            frequency_dict[word] = 1\n",
        "    return frequency_dict\n",
        "\n",
        "# Test case\n",
        "words = [\"apple\", \"banana\", \"apple\", \"orange\", \"banana\", \"apple\"]\n",
        "frequency_dict = word_frequencies(words)\n",
        "\n",
        "print(frequency_dict)\n"
      ],
      "metadata": {
        "id": "Y9mFPjNCjKnK",
        "colab": {
          "base_uri": "https://localhost:8080/"
        },
        "outputId": "3dc2d726-6392-4ef1-9dad-2b7f17453610"
      },
      "execution_count": 5,
      "outputs": [
        {
          "output_type": "stream",
          "name": "stdout",
          "text": [
            "{'apple': 3, 'banana': 2, 'orange': 1}\n"
          ]
        }
      ]
    },
    {
      "cell_type": "markdown",
      "source": [
        "**32.Write a code that takes two dictionaries as input and merges them into a single dictionary. If there are\n",
        "common keys, the values should be added together.**\n",
        "\n",
        "**Ans.**\n",
        "\n",
        "This code defines a function merge_dictionaries that takes two dictionaries, dict1 and dict2, and merges them into a single dictionary merged_dict. If the dictionaries have common keys, their values are added together."
      ],
      "metadata": {
        "id": "b2ojuhPujPe4"
      }
    },
    {
      "cell_type": "code",
      "source": [
        "def merge_dictionaries(dict1, dict2):\n",
        "    merged_dict = dict1.copy()\n",
        "    for key, value in dict2.items():\n",
        "        if key in merged_dict:\n",
        "            merged_dict[key] += value\n",
        "        else:\n",
        "            merged_dict[key] = value\n",
        "    return merged_dict\n",
        "\n",
        "# Test case\n",
        "dict1 = {'a': 1, 'b': 2, 'c': 3}\n",
        "dict2 = {'b': 3, 'c': 4, 'd': 5}\n",
        "merged_dict = merge_dictionaries(dict1, dict2)\n",
        "\n",
        "print(merged_dict)\n"
      ],
      "metadata": {
        "id": "F5jRbANVipin",
        "colab": {
          "base_uri": "https://localhost:8080/"
        },
        "outputId": "8d96cc5b-e90a-410b-8fbe-18a4d2c4f650"
      },
      "execution_count": 4,
      "outputs": [
        {
          "output_type": "stream",
          "name": "stdout",
          "text": [
            "{'a': 1, 'b': 5, 'c': 7, 'd': 5}\n"
          ]
        }
      ]
    },
    {
      "cell_type": "markdown",
      "source": [
        "**33.Write a code to access a value in a nested dictionary. The function should take the dictionary and a list of\n",
        "keys as input, and return the corresponding value. If any of the keys do not exist in the dictionary, the\n",
        "function should return None.**\n",
        "\n",
        "**Ans.**\n",
        "\n",
        "This code defines a function get_nested_value that takes a dictionary and a list of keys as input. It traverses the dictionary using the keys and returns the corresponding value. If any of the keys do not exist in the dictionary, the function returns None."
      ],
      "metadata": {
        "id": "pc8kwX9_jkJv"
      }
    },
    {
      "cell_type": "code",
      "source": [
        "def get_nested_value(dictionary, keys):\n",
        "    current_dict = dictionary\n",
        "    for key in keys:\n",
        "        if key in current_dict:\n",
        "            current_dict = current_dict[key]\n",
        "        else:\n",
        "            return None\n",
        "    return current_dict\n",
        "\n",
        "# Test cases\n",
        "nested_dict = {\n",
        "    'a': {\n",
        "        'b': {\n",
        "            'c': 42\n",
        "        }\n",
        "    }\n",
        "}\n",
        "keys1 = ['a', 'b', 'c']\n",
        "keys2 = ['a', 'b', 'x']\n",
        "\n",
        "value1 = get_nested_value(nested_dict, keys1)\n",
        "value2 = get_nested_value(nested_dict, keys2)\n",
        "\n",
        "print(f\"Value for keys {keys1}: {value1}\")\n",
        "print(f\"Value for keys {keys2}: {value2}\")\n"
      ],
      "metadata": {
        "id": "7dSPNYzujjhi",
        "colab": {
          "base_uri": "https://localhost:8080/"
        },
        "outputId": "e3109fd9-32eb-441b-b1ac-8e93cb5d080e"
      },
      "execution_count": 3,
      "outputs": [
        {
          "output_type": "stream",
          "name": "stdout",
          "text": [
            "Value for keys ['a', 'b', 'c']: 42\n",
            "Value for keys ['a', 'b', 'x']: None\n"
          ]
        }
      ]
    },
    {
      "cell_type": "markdown",
      "source": [
        "**34. Write a code that takes a dictionary as input and returns a sorted version of it based on the values. You\n",
        "can choose whether to sort in ascending or descending order.**\n",
        "\n",
        "**Ans.**\n",
        "\n",
        "This code defines a function sort_dictionary_by_values that takes a dictionary and a boolean ascending as inputs. The function sorts the dictionary based on the values in either ascending or descending order, depending on the ascending parameter."
      ],
      "metadata": {
        "id": "ZigEKKRIkTVn"
      }
    },
    {
      "cell_type": "code",
      "source": [
        "def sort_dictionary_by_values(dictionary, ascending=True):\n",
        "    sorted_items = sorted(dictionary.items(), key=lambda item: item[1], reverse=not ascending)\n",
        "    return dict(sorted_items)\n",
        "\n",
        "# Test case\n",
        "input_dict = {'a': 3, 'b': 1, 'c': 2}\n",
        "sorted_dict_ascending = sort_dictionary_by_values(input_dict, ascending=True)\n",
        "sorted_dict_descending = sort_dictionary_by_values(input_dict, ascending=False)\n",
        "\n",
        "print(f\"Sorted dictionary (ascending): {sorted_dict_ascending}\")\n",
        "print(f\"Sorted dictionary (descending): {sorted_dict_descending}\")\n"
      ],
      "metadata": {
        "id": "k9Ce5LzSkLrr",
        "colab": {
          "base_uri": "https://localhost:8080/"
        },
        "outputId": "4ca9b731-8743-4d5d-c0b9-ccc6652a7493"
      },
      "execution_count": 2,
      "outputs": [
        {
          "output_type": "stream",
          "name": "stdout",
          "text": [
            "Sorted dictionary (ascending): {'b': 1, 'c': 2, 'a': 3}\n",
            "Sorted dictionary (descending): {'a': 3, 'c': 2, 'b': 1}\n"
          ]
        }
      ]
    },
    {
      "cell_type": "markdown",
      "source": [
        "**35.Write a code that inverts a dictionary, swapping keys and values. Ensure that the inverted dictionary\n",
        "correctly handles cases where multiple keys have the same value by storing the keys as a list in the\n",
        "inverted dictionary.**\n",
        "\n",
        "**Ans.**\n",
        "\n",
        "This code defines a function invert_dictionary that takes a dictionary original_dict and inverts it by swapping keys and values. If multiple keys have the same value, the function stores the keys as a list in the inverted dictionary."
      ],
      "metadata": {
        "id": "MvzYDy_DlibT"
      }
    },
    {
      "cell_type": "code",
      "source": [
        "def invert_dictionary(original_dict):\n",
        "    inverted_dict = {}\n",
        "    for key, value in original_dict.items():\n",
        "        if value in inverted_dict:\n",
        "            inverted_dict[value].append(key)\n",
        "        else:\n",
        "            inverted_dict[value] = [key]\n",
        "    return inverted_dict\n",
        "\n",
        "# Test case\n",
        "input_dict = {'a': 1, 'b': 2, 'c': 1, 'd': 3}\n",
        "inverted_dict = invert_dictionary(input_dict)\n",
        "\n",
        "print(inverted_dict)\n"
      ],
      "metadata": {
        "id": "KHvHUiM6lhl4",
        "colab": {
          "base_uri": "https://localhost:8080/"
        },
        "outputId": "19bee864-c1de-4e6a-dde3-b8e12c13cac5"
      },
      "execution_count": 1,
      "outputs": [
        {
          "output_type": "stream",
          "name": "stdout",
          "text": [
            "{1: ['a', 'c'], 2: ['b'], 3: ['d']}\n"
          ]
        }
      ]
    },
    {
      "cell_type": "code",
      "source": [],
      "metadata": {
        "id": "kIEsh8wEleyg"
      },
      "execution_count": null,
      "outputs": []
    }
  ]
}